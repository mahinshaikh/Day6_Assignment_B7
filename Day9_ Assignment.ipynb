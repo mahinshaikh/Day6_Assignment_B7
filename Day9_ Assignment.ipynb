{
  "nbformat": 4,
  "nbformat_minor": 0,
  "metadata": {
    "colab": {
      "name": "Untitled4.ipynb",
      "provenance": [],
      "collapsed_sections": []
    },
    "kernelspec": {
      "name": "python3",
      "display_name": "Python 3"
    }
  },
  "cells": [
    {
      "cell_type": "code",
      "metadata": {
        "id": "seCgxFyMNvuF",
        "colab_type": "code",
        "colab": {}
      },
      "source": [
        "!pip install pylint"
      ],
      "execution_count": null,
      "outputs": []
    },
    {
      "cell_type": "code",
      "metadata": {
        "id": "tSGtfOg5N8lB",
        "colab_type": "code",
        "colab": {}
      },
      "source": [
        "#                         DAY 9 ASSIGNMENT"
      ],
      "execution_count": null,
      "outputs": []
    },
    {
      "cell_type": "code",
      "metadata": {
        "id": "vy64Na-WN_WF",
        "colab_type": "code",
        "colab": {}
      },
      "source": [
        "# 2. Write a python function for finding a given no prime or not  and do unit \n",
        "#testing on it using Pylint & unittesting library"
      ],
      "execution_count": null,
      "outputs": []
    },
    {
      "cell_type": "code",
      "metadata": {
        "id": "DZSwHR3MN_Yj",
        "colab_type": "code",
        "colab": {
          "base_uri": "https://localhost:8080/",
          "height": 34
        },
        "outputId": "3b5b4122-2ebd-483e-8cb5-36f0b6f8d264"
      },
      "source": [
        "%%writefile prime_number\n",
        "\n",
        "\n",
        "'''\n",
        "it is a function to check prime number\n",
        "'''\n",
        "def prime(number):\n",
        "  \n",
        "  '''\n",
        "  this is a prime function\n",
        "  '''\n",
        "  if number>1:\n",
        "\n",
        "\n",
        "\n",
        "\n",
        "    \n",
        "  for i in range(2,number):\n",
        "\n",
        "\n",
        "\n",
        "\n",
        "      if (number%i)==0:\n",
        "\n",
        "\n",
        "\n",
        "\n",
        "        print(number,\"is not prime\")\n",
        "\n",
        "\n",
        "\n",
        "\n",
        "        break\n",
        "    else:\n",
        "\n",
        "\n",
        "\n",
        "\n",
        "        print(number,\"is a prime number\")\n",
        "  else:\n",
        "\n",
        "\n",
        "\n",
        "\n",
        "    print(number,\"is not a prime number\")\n",
        "\n",
        "prime(11)\n",
        "\n",
        "\n",
        "\n"
      ],
      "execution_count": 15,
      "outputs": [
        {
          "output_type": "stream",
          "text": [
            "Overwriting prime_number\n"
          ],
          "name": "stdout"
        }
      ]
    },
    {
      "cell_type": "code",
      "metadata": {
        "id": "GOM6YQODOgOU",
        "colab_type": "code",
        "colab": {
          "base_uri": "https://localhost:8080/",
          "height": 306
        },
        "outputId": "4ab2dd68-1720-446b-f554-e4c20465eb8b"
      },
      "source": [
        "!pylint \"prime_number\""
      ],
      "execution_count": 17,
      "outputs": [
        {
          "output_type": "stream",
          "text": [
            "************* Module prime_number\n",
            "prime_number:7:0: C0303: Trailing whitespace (trailing-whitespace)\n",
            "prime_number:8:0: W0311: Bad indentation. Found 2 spaces, expected 4 (bad-indentation)\n",
            "prime_number:11:0: W0311: Bad indentation. Found 2 spaces, expected 4 (bad-indentation)\n",
            "prime_number:12:0: W0311: Bad indentation. Found 4 spaces, expected 8 (bad-indentation)\n",
            "prime_number:13:0: W0311: Bad indentation. Found 6 spaces, expected 12 (bad-indentation)\n",
            "prime_number:14:0: W0311: Bad indentation. Found 8 spaces, expected 16 (bad-indentation)\n",
            "prime_number:15:0: W0311: Bad indentation. Found 8 spaces, expected 16 (bad-indentation)\n",
            "prime_number:16:0: W0311: Bad indentation. Found 4 spaces, expected 8 (bad-indentation)\n",
            "prime_number:17:0: W0311: Bad indentation. Found 8 spaces, expected 12 (bad-indentation)\n",
            "prime_number:18:0: W0311: Bad indentation. Found 2 spaces, expected 4 (bad-indentation)\n",
            "prime_number:19:0: W0311: Bad indentation. Found 4 spaces, expected 8 (bad-indentation)\n",
            "prime_number:23:0: C0305: Trailing newlines (trailing-newlines)\n",
            "\n",
            "--------------------------------------------------------------------\n",
            "Your code has been rated at -3.33/10 (previous run: -3.33/10, +0.00)\n",
            "\n"
          ],
          "name": "stdout"
        }
      ]
    },
    {
      "cell_type": "code",
      "metadata": {
        "id": "s8-Opi89SsrK",
        "colab_type": "code",
        "colab": {}
      },
      "source": [
        ""
      ],
      "execution_count": null,
      "outputs": []
    },
    {
      "cell_type": "code",
      "metadata": {
        "id": "q1AAto9ZN_jB",
        "colab_type": "code",
        "colab": {}
      },
      "source": [
        ""
      ],
      "execution_count": null,
      "outputs": []
    },
    {
      "cell_type": "code",
      "metadata": {
        "id": "QgHc454IN_lf",
        "colab_type": "code",
        "colab": {}
      },
      "source": [
        ""
      ],
      "execution_count": null,
      "outputs": []
    }
  ]
}