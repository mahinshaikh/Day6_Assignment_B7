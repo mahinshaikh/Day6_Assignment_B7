{
  "nbformat": 4,
  "nbformat_minor": 0,
  "metadata": {
    "colab": {
      "name": "Day6_Assignment_B7.ipynb",
      "provenance": []
    },
    "kernelspec": {
      "name": "python3",
      "display_name": "Python 3"
    }
  },
  "cells": [
    {
      "cell_type": "code",
      "metadata": {
        "id": "99MsUzsSTcLD",
        "colab_type": "code",
        "colab": {}
      },
      "source": [
        "#                        Day 6 ASSIGNMENT"
      ],
      "execution_count": null,
      "outputs": []
    },
    {
      "cell_type": "code",
      "metadata": {
        "id": "bIguCw-rTo6t",
        "colab_type": "code",
        "colab": {}
      },
      "source": [
        "#  1. For the challenge, create a bank  account class  that has two attributes\n",
        "# (i)OwnerName   (ii)Balance\n",
        "\n",
        "# and two method\n",
        "# (i)deposit (ii)  withdrawal\n",
        "\n",
        "# As an added requirement withdrawals may not exceed the available balance. Instantiate your class, make several \n",
        "# deposit and withdrawals, and test to make  sure the account can't be overdrawn"
      ],
      "execution_count": 1,
      "outputs": []
    },
    {
      "cell_type": "code",
      "metadata": {
        "id": "sdN7LyAfb4Wz",
        "colab_type": "code",
        "colab": {}
      },
      "source": [
        ""
      ],
      "execution_count": null,
      "outputs": []
    },
    {
      "cell_type": "code",
      "metadata": {
        "id": "EQR4bh9IUGun",
        "colab_type": "code",
        "colab": {
          "base_uri": "https://localhost:8080/",
          "height": 85
        },
        "outputId": "563ee4a7-d4ff-4c9e-de5d-ef3f026bd051"
      },
      "source": [
        "class bank_account:\n",
        "   def __init__(self):\n",
        "     self.balance=0\n",
        "     print(\"The account is created\")\n",
        "     self.OwnerName=\"\"\n",
        "     \n",
        "\n",
        "   def deposit(self):\n",
        "\n",
        "    OwnerName=input(\"enter the OwnerName:\")\n",
        "    OwnerName=self.OwnerName\n",
        "    amount=float(input(\"enter the amount to be deposit:\"))\n",
        "    self.balance=self.balance+amount\n",
        "    print(\"Deposit is successful and the balance in the account is %f\"%self.balance)\n",
        "\n",
        "   def withdrawal(self):\n",
        "      amount=float(input(\"enter the amount to be withdrawal\"))\n",
        "\n",
        "      if (self.balance>=amount):\n",
        "        self.balance=self.balance-amount\n",
        "        print(\"the withdrawal is successfull\")\n",
        "      else:\n",
        "        print(\"Insufficient balance\")\n",
        "    \n",
        "   def enquiry(self):\n",
        "      print(\"Balance in the account is %f\" % self.balance)\n",
        "\n",
        "\n",
        "acc=bank_account()\n",
        "acc.deposit()"
      ],
      "execution_count": 16,
      "outputs": [
        {
          "output_type": "stream",
          "text": [
            "The account is created\n",
            "enter the OwnerName:xyz\n",
            "enter the amount to be deposit:20000\n",
            "Deposit is successful and the balance in the account is 20000.000000\n"
          ],
          "name": "stdout"
        }
      ]
    },
    {
      "cell_type": "code",
      "metadata": {
        "id": "KQORWVm4Zp0v",
        "colab_type": "code",
        "colab": {
          "base_uri": "https://localhost:8080/",
          "height": 51
        },
        "outputId": "d8aaf933-df52-447d-8ea5-d3e2cc9104c2"
      },
      "source": [
        "acc.withdrawal()"
      ],
      "execution_count": 19,
      "outputs": [
        {
          "output_type": "stream",
          "text": [
            "enter the amount to be withdrawal1000\n",
            "the withdrawal is successfull %f\n"
          ],
          "name": "stdout"
        }
      ]
    },
    {
      "cell_type": "code",
      "metadata": {
        "id": "xJSC0pR6Zo-l",
        "colab_type": "code",
        "colab": {
          "base_uri": "https://localhost:8080/",
          "height": 34
        },
        "outputId": "7076dce8-bc6e-488a-bd31-7fda2acf7f72"
      },
      "source": [
        "acc.enquiry()"
      ],
      "execution_count": 20,
      "outputs": [
        {
          "output_type": "stream",
          "text": [
            "Balance in the account is 8000.000000\n"
          ],
          "name": "stdout"
        }
      ]
    },
    {
      "cell_type": "code",
      "metadata": {
        "id": "-levQE0Na-0n",
        "colab_type": "code",
        "colab": {}
      },
      "source": [
        "# 2. For this challenge, create a cone class that has two attribute\n",
        "#  (i) Radius=R    (ii) Height=h\n",
        "\n",
        "# two methods\n",
        "# (i) Volume  (ii) Surface Area\n",
        "\n",
        "# Make only one class with functions as in where required import math ,module\n"
      ],
      "execution_count": null,
      "outputs": []
    },
    {
      "cell_type": "code",
      "metadata": {
        "id": "HeRkClSVb6k1",
        "colab_type": "code",
        "colab": {
          "base_uri": "https://localhost:8080/",
          "height": 119
        },
        "outputId": "9ca6ad59-97fe-4aac-fdc2-3b2844314713"
      },
      "source": [
        "\n",
        "class cone:\n",
        "  def __init__(self):\n",
        "    self.radius=0\n",
        "    self.height=0\n",
        "\n",
        "  def volume(self):\n",
        "    radius=float(input(\"Enter the radius\"))\n",
        "    height=float(input(\"enter the height:\"))\n",
        "    vol=((1/3)*(3.14*radius*radius*height))\n",
        "    print(\"the volume of cone is:\",vol)\n",
        "  def surfaceArea(self):\n",
        "    radius=float(input(\"Enter the radius\"))\n",
        "    height=float(input(\"enter the height:\"))\n",
        "    \n",
        "    surfaceArea=(3.14*radius*height)\n",
        "    print(\"the surface area of cone is:\",surfaceArea)\n",
        "\n",
        "obj=cone()\n",
        "obj.volume()\n",
        "obj.surfaceArea()"
      ],
      "execution_count": 23,
      "outputs": [
        {
          "output_type": "stream",
          "text": [
            "Enter the radius2\n",
            "enter the height:2\n",
            "the volume of cone is: 8.373333333333333\n",
            "Enter the radius2\n",
            "enter the height:2\n",
            "the surface area of cone is: 12.56\n"
          ],
          "name": "stdout"
        }
      ]
    }
  ]
}