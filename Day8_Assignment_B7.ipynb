{
  "nbformat": 4,
  "nbformat_minor": 0,
  "metadata": {
    "colab": {
      "name": "Day8_Assignment_B7.ipynb",
      "provenance": []
    },
    "kernelspec": {
      "name": "python3",
      "display_name": "Python 3"
    }
  },
  "cells": [
    {
      "cell_type": "code",
      "metadata": {
        "id": "wBVQ1mLxik5r",
        "colab_type": "code",
        "colab": {}
      },
      "source": [
        "\n",
        "! pip install excel\n"
      ],
      "execution_count": null,
      "outputs": []
    },
    {
      "cell_type": "code",
      "metadata": {
        "id": "o9uFTDUepEIm",
        "colab_type": "code",
        "colab": {}
      },
      "source": [
        "#                  DAY 8 ASSIGNMENT"
      ],
      "execution_count": null,
      "outputs": []
    },
    {
      "cell_type": "code",
      "metadata": {
        "id": "80OymZIDpB5C",
        "colab_type": "code",
        "colab": {}
      },
      "source": [
        "# 1.Write a decorator function for you are taking input for you and kind of function you want to build,\n",
        "# for example you make a fibonacci series function in which your input range is been defined by the decorator program input "
      ],
      "execution_count": null,
      "outputs": []
    },
    {
      "cell_type": "code",
      "metadata": {
        "id": "t7Y2aedDmqLZ",
        "colab_type": "code",
        "colab": {}
      },
      "source": [
        "from excel import OpenExcel\n",
        "\n",
        "dir(OpenExcel)\n"
      ],
      "execution_count": null,
      "outputs": []
    },
    {
      "cell_type": "code",
      "metadata": {
        "id": "haIPz2lPm-p5",
        "colab_type": "code",
        "colab": {}
      },
      "source": [
        "import xlrd\n",
        "dir(xlrd)"
      ],
      "execution_count": null,
      "outputs": []
    },
    {
      "cell_type": "code",
      "metadata": {
        "id": "yoTm_k88kxqV",
        "colab_type": "code",
        "colab": {
          "base_uri": "https://localhost:8080/",
          "height": 34
        },
        "outputId": "8e57fbaf-8f83-4b65-a51c-fe7e1422e9ec"
      },
      "source": [
        "def fibonacci(num):\n",
        "\n",
        "\n",
        "  def fibo(n):\n",
        "    if n<=0:\n",
        "      print(\"the no is incorrect\")\n",
        "    elif n==1:\n",
        "      return 0\n",
        "    elif n==2:\n",
        "      return 1\n",
        "    else:\n",
        "      return (fibo(n-1)+fibo(n-2))\n",
        "    return num(n)\n",
        "  return fibo\n",
        "\n",
        "\n",
        "@fibonacci\n",
        "\n",
        "def fibo_num(n):\n",
        "  print(n,\"is the number\")\n",
        "\n",
        "\n",
        "fibo_num(10)\n",
        "\n",
        "      \n",
        "\n",
        "      \n",
        "\n",
        "   "
      ],
      "execution_count": 13,
      "outputs": [
        {
          "output_type": "execute_result",
          "data": {
            "text/plain": [
              "34"
            ]
          },
          "metadata": {
            "tags": []
          },
          "execution_count": 13
        }
      ]
    },
    {
      "cell_type": "code",
      "metadata": {
        "id": "byiLfVj2ljAf",
        "colab_type": "code",
        "colab": {}
      },
      "source": [
        " # 2. For this challenge  you need to develop a python program  to open a file in read only mode and try writing\n",
        " # something to it and handle the subsequent errors using Exception Handling"
      ],
      "execution_count": null,
      "outputs": []
    },
    {
      "cell_type": "code",
      "metadata": {
        "id": "wL2Vb8j9rhcO",
        "colab_type": "code",
        "colab": {}
      },
      "source": [
        "\n",
        "f=open ('abc.txt','w')\n",
        "f.write (\"hello everyone\")\n",
        "f.close()\n",
        "\n"
      ],
      "execution_count": 17,
      "outputs": []
    },
    {
      "cell_type": "code",
      "metadata": {
        "id": "pqWB8yFPsuZx",
        "colab_type": "code",
        "colab": {
          "base_uri": "https://localhost:8080/",
          "height": 35
        },
        "outputId": "ffa60881-6c57-4cac-eeef-22b20c404a97"
      },
      "source": [
        "f=open('abc.txt','r')\n",
        "f.read()"
      ],
      "execution_count": 18,
      "outputs": [
        {
          "output_type": "execute_result",
          "data": {
            "application/vnd.google.colaboratory.intrinsic+json": {
              "type": "string"
            },
            "text/plain": [
              "'hello everyone'"
            ]
          },
          "metadata": {
            "tags": []
          },
          "execution_count": 18
        }
      ]
    },
    {
      "cell_type": "code",
      "metadata": {
        "id": "yFqj0wg7tMZf",
        "colab_type": "code",
        "colab": {
          "base_uri": "https://localhost:8080/",
          "height": 34
        },
        "outputId": "8d0732f6-1610-4666-8a67-a9c65d2dce95"
      },
      "source": [
        "\n",
        "f=open('abc.txt','r')\n",
        "fileData=f.read()\n",
        "print(fileData)\n",
        "f.close()"
      ],
      "execution_count": 22,
      "outputs": [
        {
          "output_type": "stream",
          "text": [
            "hello everyone\n"
          ],
          "name": "stdout"
        }
      ]
    },
    {
      "cell_type": "code",
      "metadata": {
        "id": "xwnZjIs9ucyD",
        "colab_type": "code",
        "colab": {
          "base_uri": "https://localhost:8080/",
          "height": 34
        },
        "outputId": "bffd5c90-1b5e-44d9-910f-069aaf31c3c1"
      },
      "source": [
        "try:\n",
        "   f=open('abc.txt','r')\n",
        "\n",
        "   f.write(\"how are you all today\")\n",
        "except :\n",
        "  print(\"it is not writable\")\n",
        "f.close()\n"
      ],
      "execution_count": 30,
      "outputs": [
        {
          "output_type": "stream",
          "text": [
            "it is not writable\n"
          ],
          "name": "stdout"
        }
      ]
    }
  ]
}